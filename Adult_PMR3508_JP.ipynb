{
 "cells": [
  {
   "cell_type": "markdown",
   "id": "da50a1ed",
   "metadata": {},
   "source": [
    "# Importando bibliotecas\n"
   ]
  },
  {
   "cell_type": "code",
   "execution_count": null,
   "id": "78b3aba1",
   "metadata": {},
   "outputs": [],
   "source": [
    "import numpy as np\n",
    "import pandas as pd\n",
    "from sklearn.preprocessing import LabelEncoder, StandardScaler\n",
    "from sklearn.neighbors import KNeighborsClassifier\n",
    "from sklearn.model_selection import GridSearchCV"
   ]
  },
  {
   "cell_type": "markdown",
   "id": "d5fa5714",
   "metadata": {},
   "source": [
    "# Importando base de dados\n"
   ]
  },
  {
   "cell_type": "code",
   "execution_count": null,
   "id": "e7a1f003",
   "metadata": {},
   "outputs": [],
   "source": [
    "train_set = pd.read_csv(r'C:\\Users\\jpcar\\Documents\\DL_Projects\\adult-pmr3508\\train_data.csv', na_values=\"?\")\n",
    "test_set = pd.read_csv(r'C:\\Users\\jpcar\\Documents\\DL_Projects\\adult-pmr3508\\test_data.csv', na_values=\"?\")"
   ]
  },
  {
   "cell_type": "markdown",
   "id": "97f1dbbb",
   "metadata": {},
   "source": [
    "# Pré-processamento dos dados\n"
   ]
  },
  {
   "cell_type": "code",
   "execution_count": null,
   "id": "d18f1962",
   "metadata": {},
   "outputs": [],
   "source": [
    "#amostra das 5 primeiras linhas do grupo de teste\n",
    "train_set.head()"
   ]
  },
  {
   "cell_type": "code",
   "execution_count": null,
   "id": "aa4c0a8a",
   "metadata": {},
   "outputs": [],
   "source": [
    "#amostra das 5 primeiras linhas do grupo de teste\n",
    "test_set.head()"
   ]
  },
  {
   "cell_type": "code",
   "execution_count": null,
   "id": "ad18e13d",
   "metadata": {},
   "outputs": [],
   "source": [
    "#verificando valores nulos na base de treino\n",
    "train_set.isnull().sum()"
   ]
  },
  {
   "cell_type": "code",
   "execution_count": null,
   "id": "05928a44",
   "metadata": {},
   "outputs": [],
   "source": [
    "#deletando valores nulos encontrados\n",
    "train_set = train_set.dropna()"
   ]
  },
  {
   "cell_type": "code",
   "execution_count": null,
   "id": "f1e8a08d",
   "metadata": {},
   "outputs": [],
   "source": [
    "#re-verificando se restou valores nulos\n",
    "train_set.isnull().sum()"
   ]
  },
  {
   "cell_type": "code",
   "execution_count": null,
   "id": "848ae71b",
   "metadata": {},
   "outputs": [],
   "source": [
    "#Retirando coluna de Id e fnlwgt do treino e teste\n",
    "train_set = train_set.drop(columns=[\"Id\", \"fnlwgt\"])\n",
    "test_set = test_set.drop(columns=[\"Id\", \"fnlwgt\"])"
   ]
  },
  {
   "cell_type": "code",
   "execution_count": null,
   "id": "5c12a4f5",
   "metadata": {},
   "outputs": [],
   "source": [
    "#Separando as colunas para relacionar atributos de X de treino com Y de treino\n",
    "X_train = train_set[train_set.columns.to_list()]\n",
    "X_train = X_train.drop(columns=[\"income\"])\n",
    "y_train = train_set[[\"income\"]]\n",
    "X_test = test_set[test_set.columns.to_list()]"
   ]
  },
  {
   "cell_type": "code",
   "execution_count": null,
   "id": "86fe3a93",
   "metadata": {},
   "outputs": [],
   "source": [
    "#Realizando a normalização dos dados para não haver desbalanceamento entre as classes\n",
    "def encode_labels(df: pd.DataFrame) -> pd.DataFrame:\n",
    "    return df.apply(LabelEncoder().fit_transform)\n",
    "\n",
    "def standardization(df: pd.DataFrame) -> pd.DataFrame:\n",
    "    return StandardScaler().fit_transform(df)\n",
    "\n",
    "def preprocess(original: pd.DataFrame):\n",
    "    df = original.copy()\n",
    "    # Aplica o label enconder a todos os valores do dataframe \n",
    "    df = encode_labels(df)\n",
    "    # Normaliza os valores obtidos anteriormente\n",
    "    np_array = standardization(df)\n",
    "    result = pd.DataFrame(np_array, columns=original.columns)\n",
    "    return result\n",
    "\n",
    "X_train = preprocess(X_train)\n",
    "X_test = preprocess(X_test)\n",
    "y_train = encode_labels(y_train)\n",
    "display(X_train.head())\n",
    "display(y_train.head())"
   ]
  },
  {
   "cell_type": "markdown",
   "id": "1257ed0b",
   "metadata": {},
   "source": [
    "# Modelo usando KNN\n"
   ]
  },
  {
   "cell_type": "code",
   "execution_count": null,
   "id": "8f77d090",
   "metadata": {},
   "outputs": [],
   "source": [
    "#Selecionando a vizinhança a ser verificados\n",
    "knn = KNeighborsClassifier()\n",
    "distributions = dict(n_neighbors = [9, 15, 18, 21, 24, 28, 33, 37, 42, 49, 51, 59])\n",
    "classifier = GridSearchCV(knn, distributions)"
   ]
  },
  {
   "cell_type": "code",
   "execution_count": null,
   "id": "e66cfcd6",
   "metadata": {},
   "outputs": [],
   "source": [
    "#Verificação dos melhores parametros\n",
    "knn_search = classifier.fit(X_train, y_train)\n",
    "knn_search.best_params_"
   ]
  },
  {
   "cell_type": "code",
   "execution_count": null,
   "id": "1ba45c54",
   "metadata": {},
   "outputs": [],
   "source": [
    "# acurácia do modelo\n",
    "knn_search.best_score_"
   ]
  },
  {
   "cell_type": "markdown",
   "id": "7979bec2",
   "metadata": {},
   "source": [
    "# Realizando Predição"
   ]
  },
  {
   "cell_type": "code",
   "execution_count": null,
   "id": "71ff90be",
   "metadata": {},
   "outputs": [],
   "source": [
    "#aplicando no grupo de testes\n",
    "results = knn_search.best_estimator_.predict(X_test)"
   ]
  },
  {
   "cell_type": "code",
   "execution_count": null,
   "id": "6fa5950a",
   "metadata": {},
   "outputs": [],
   "source": [
    "X_test.head()"
   ]
  },
  {
   "cell_type": "code",
   "execution_count": null,
   "id": "dd1607ff",
   "metadata": {},
   "outputs": [],
   "source": [
    "def to_income_string(item):\n",
    "  return '<=50K' if item == 0 else '>50K'\n",
    "\n",
    "predictions = [to_income_string(result) for result in results]\n",
    "predictions = np.array(predictions, dtype='object')"
   ]
  },
  {
   "cell_type": "code",
   "execution_count": null,
   "id": "99070b04",
   "metadata": {},
   "outputs": [],
   "source": [
    "predictions"
   ]
  },
  {
   "cell_type": "markdown",
   "id": "4a6dc1e3",
   "metadata": {},
   "source": [
    "# Resultados "
   ]
  },
  {
   "cell_type": "code",
   "execution_count": null,
   "id": "0589e0f2",
   "metadata": {},
   "outputs": [],
   "source": [
    "#atribuindo rótulos de id e de classificação \"income\" para o arquivo final\n",
    "submissions = pd.DataFrame()\n",
    "submissions[0] = test_set.index\n",
    "submissions[1] = predictions\n",
    "submissions.columns = ['Id', 'income']"
   ]
  },
  {
   "cell_type": "code",
   "execution_count": null,
   "id": "a2360235",
   "metadata": {},
   "outputs": [],
   "source": [
    "#visualizando tabela final de predição\n",
    "submissions.head(n=10)"
   ]
  },
  {
   "cell_type": "code",
   "execution_count": null,
   "id": "c2742d99",
   "metadata": {},
   "outputs": [],
   "source": [
    "#gerando arquivo para submissão\n",
    "submissions.to_csv('submission.csv', index=False)"
   ]
  },
  {
   "cell_type": "code",
   "execution_count": null,
   "id": "2bc564ab",
   "metadata": {},
   "outputs": [],
   "source": []
  }
 ],
 "metadata": {
  "kernelspec": {
   "display_name": "Python 3 (ipykernel)",
   "language": "python",
   "name": "python3"
  },
  "language_info": {
   "codemirror_mode": {
    "name": "ipython",
    "version": 3
   },
   "file_extension": ".py",
   "mimetype": "text/x-python",
   "name": "python",
   "nbconvert_exporter": "python",
   "pygments_lexer": "ipython3",
   "version": "3.8.13"
  }
 },
 "nbformat": 4,
 "nbformat_minor": 5
}
